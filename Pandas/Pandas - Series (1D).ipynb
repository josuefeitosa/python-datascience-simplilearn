{
 "cells": [
  {
   "cell_type": "code",
   "execution_count": 1,
   "id": "b8edca59",
   "metadata": {},
   "outputs": [],
   "source": [
    "#import libraries\n",
    "import numpy as np\n",
    "import pandas as pd"
   ]
  },
  {
   "cell_type": "markdown",
   "id": "7aaa6346",
   "metadata": {},
   "source": [
    "### Series"
   ]
  },
  {
   "cell_type": "code",
   "execution_count": 2,
   "id": "914dff21",
   "metadata": {},
   "outputs": [
    {
     "name": "stdout",
     "output_type": "stream",
     "text": [
      "0    a\n",
      "1    b\n",
      "2    c\n",
      "3    d\n",
      "4    e\n",
      "5    f\n",
      "dtype: object\n"
     ]
    }
   ],
   "source": [
    "# series created with a list\n",
    "first_series = pd.Series(list('abcdef'))\n",
    "print(first_series)"
   ]
  },
  {
   "cell_type": "code",
   "execution_count": 3,
   "id": "7500e790",
   "metadata": {},
   "outputs": [
    {
     "name": "stdout",
     "output_type": "stream",
     "text": [
      "0       Brazil\n",
      "1    Argentina\n",
      "2        Japan\n",
      "3          USA\n",
      "4       Russia\n",
      "dtype: object\n"
     ]
    }
   ],
   "source": [
    "# series created with a ndarray\n",
    "np_country = np.array(['Brazil', 'Argentina', 'Japan', 'USA', 'Russia'])\n",
    "\n",
    "s_country = pd.Series(np_country)\n",
    "\n",
    "print(s_country)"
   ]
  },
  {
   "cell_type": "code",
   "execution_count": 4,
   "id": "933b27c5",
   "metadata": {},
   "outputs": [
    {
     "name": "stdout",
     "output_type": "stream",
     "text": [
      "Brazil       52056.01781\n",
      "Argentina    40258.80862\n",
      "Japan        40034.85063\n",
      "dtype: float64\n"
     ]
    }
   ],
   "source": [
    "# series created with a dict (dictionary)\n",
    "s_country_gdp = pd.Series([52056.01781, 40258.80862, 40034.85063], index=['Brazil', 'Argentina', 'Japan'])\n",
    "print(s_country_gdp)"
   ]
  },
  {
   "cell_type": "code",
   "execution_count": 5,
   "id": "e789a661",
   "metadata": {},
   "outputs": [
    {
     "name": "stdout",
     "output_type": "stream",
     "text": [
      "a    5.0\n",
      "b    5.0\n",
      "c    5.0\n",
      "d    5.0\n",
      "e    5.0\n",
      "dtype: float64\n"
     ]
    }
   ],
   "source": [
    "# series created with scalar\n",
    "# scalar value = 5\n",
    "# scalar series = a,b,c,d,e\n",
    "scalar_series = pd.Series(5., index=['a', 'b', 'c', 'd', 'e'])\n",
    "print(scalar_series)"
   ]
  },
  {
   "cell_type": "code",
   "execution_count": 6,
   "id": "191593e2",
   "metadata": {},
   "outputs": [
    {
     "name": "stdout",
     "output_type": "stream",
     "text": [
      "c\n",
      "Brazil       52056.01781\n",
      "Argentina    40258.80862\n",
      "dtype: float64\n",
      "52056.01781\n",
      "40258.80862\n"
     ]
    }
   ],
   "source": [
    "# accessing elements in the series\n",
    "print(first_series[2])\n",
    "print(s_country_gdp[0:2]) #first two\n",
    "print(s_country_gdp.loc['Brazil']) #searching by index\n",
    "print(s_country_gdp.iloc[1]) #searching by position"
   ]
  },
  {
   "cell_type": "markdown",
   "id": "7a1b8a21",
   "metadata": {},
   "source": [
    "#### Vectorized Operations in Series"
   ]
  },
  {
   "cell_type": "code",
   "execution_count": 9,
   "id": "99caa045",
   "metadata": {},
   "outputs": [],
   "source": [
    "first_vector_series = pd.Series([1, 2, 3, 4], index=['a', 'b', 'c', 'd'])\n",
    "second_vector_series = pd.Series([10, 20, 30, 40], index=['a', 'b', 'c', 'd'])"
   ]
  },
  {
   "cell_type": "code",
   "execution_count": 8,
   "id": "9a697e7f",
   "metadata": {},
   "outputs": [
    {
     "data": {
      "text/plain": [
       "a    11\n",
       "b    22\n",
       "c    33\n",
       "d    44\n",
       "dtype: int64"
      ]
     },
     "execution_count": 8,
     "metadata": {},
     "output_type": "execute_result"
    }
   ],
   "source": [
    "first_vector_series + second_vector_series #matched by index"
   ]
  },
  {
   "cell_type": "code",
   "execution_count": 10,
   "id": "db7c6e30",
   "metadata": {},
   "outputs": [
    {
     "data": {
      "text/plain": [
       "a    11\n",
       "b    32\n",
       "c    23\n",
       "d    44\n",
       "dtype: int64"
      ]
     },
     "execution_count": 10,
     "metadata": {},
     "output_type": "execute_result"
    }
   ],
   "source": [
    "second_vector_series = pd.Series([10, 20, 30, 40], index=['a', 'c', 'b', 'd'])\n",
    "first_vector_series + second_vector_series #matched by index"
   ]
  },
  {
   "cell_type": "code",
   "execution_count": 11,
   "id": "261a69a6",
   "metadata": {},
   "outputs": [
    {
     "data": {
      "text/plain": [
       "a    11.0\n",
       "b     NaN\n",
       "c    23.0\n",
       "d     NaN\n",
       "e     NaN\n",
       "f     NaN\n",
       "dtype: float64"
      ]
     },
     "execution_count": 11,
     "metadata": {},
     "output_type": "execute_result"
    }
   ],
   "source": [
    "second_vector_series = pd.Series([10, 20, 30, 40], index=['a', 'c', 'e', 'f'])\n",
    "first_vector_series + second_vector_series"
   ]
  },
  {
   "cell_type": "code",
   "execution_count": null,
   "id": "d52f4270",
   "metadata": {},
   "outputs": [],
   "source": []
  }
 ],
 "metadata": {
  "kernelspec": {
   "display_name": "Python 3 (ipykernel)",
   "language": "python",
   "name": "python3"
  },
  "language_info": {
   "codemirror_mode": {
    "name": "ipython",
    "version": 3
   },
   "file_extension": ".py",
   "mimetype": "text/x-python",
   "name": "python",
   "nbconvert_exporter": "python",
   "pygments_lexer": "ipython3",
   "version": "3.9.7"
  }
 },
 "nbformat": 4,
 "nbformat_minor": 5
}
