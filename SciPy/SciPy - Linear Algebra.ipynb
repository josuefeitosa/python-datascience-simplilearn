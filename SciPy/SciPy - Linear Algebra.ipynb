{
 "cells": [
  {
   "cell_type": "markdown",
   "id": "544d9d80",
   "metadata": {},
   "source": [
    "# Inverse of matrix"
   ]
  },
  {
   "cell_type": "code",
   "execution_count": 1,
   "id": "e3436d15",
   "metadata": {},
   "outputs": [
    {
     "data": {
      "text/plain": [
       "array([[10,  6],\n",
       "       [ 2,  7]])"
      ]
     },
     "execution_count": 1,
     "metadata": {},
     "output_type": "execute_result"
    }
   ],
   "source": [
    "import numpy as np\n",
    "from scipy import linalg\n",
    "\n",
    "matrix = np.array([[10, 6], [2, 7]])\n",
    "matrix"
   ]
  },
  {
   "cell_type": "code",
   "execution_count": 2,
   "id": "4730f3b8",
   "metadata": {},
   "outputs": [
    {
     "data": {
      "text/plain": [
       "numpy.ndarray"
      ]
     },
     "execution_count": 2,
     "metadata": {},
     "output_type": "execute_result"
    }
   ],
   "source": [
    "type(matrix)"
   ]
  },
  {
   "cell_type": "code",
   "execution_count": 3,
   "id": "d5049446",
   "metadata": {},
   "outputs": [
    {
     "data": {
      "text/plain": [
       "array([[ 0.12068966, -0.10344828],\n",
       "       [-0.03448276,  0.17241379]])"
      ]
     },
     "execution_count": 3,
     "metadata": {},
     "output_type": "execute_result"
    }
   ],
   "source": [
    "linalg.inv(matrix)"
   ]
  },
  {
   "cell_type": "markdown",
   "id": "65f84e19",
   "metadata": {},
   "source": [
    "# Finding Determinant"
   ]
  },
  {
   "cell_type": "code",
   "execution_count": 4,
   "id": "c9cc8271",
   "metadata": {},
   "outputs": [
    {
     "data": {
      "text/plain": [
       "array([[4, 9],\n",
       "       [3, 5]])"
      ]
     },
     "execution_count": 4,
     "metadata": {},
     "output_type": "execute_result"
    }
   ],
   "source": [
    "import numpy as np\n",
    "from scipy import linalg\n",
    "\n",
    "matrix = np.array([[4, 9], [3, 5]])\n",
    "matrix"
   ]
  },
  {
   "cell_type": "code",
   "execution_count": 5,
   "id": "30607d16",
   "metadata": {},
   "outputs": [
    {
     "data": {
      "text/plain": [
       "-7.000000000000001"
      ]
     },
     "execution_count": 5,
     "metadata": {},
     "output_type": "execute_result"
    }
   ],
   "source": [
    "linalg.det(matrix) #determinante é a diferença entre a multiplicação dos elementos na diagonal (4*5)-(3*9) = -7"
   ]
  },
  {
   "cell_type": "markdown",
   "id": "0670c379",
   "metadata": {},
   "source": [
    "# Solving linear systems"
   ]
  },
  {
   "cell_type": "code",
   "execution_count": 6,
   "id": "970f49ba",
   "metadata": {},
   "outputs": [
    {
     "name": "stdout",
     "output_type": "stream",
     "text": [
      "[[ 2  3  1]\n",
      " [-1  5  4]\n",
      " [ 3  2  9]]\n",
      "\n",
      "[21  9  6]\n"
     ]
    }
   ],
   "source": [
    "import numpy as np\n",
    "from scipy import linalg\n",
    "\n",
    "\"\"\"\n",
    "2x + 3y + z = 21\n",
    "-x + 5y + 4z = 9\n",
    "3x + 2y + 9z = 6\n",
    "\"\"\"\n",
    "\n",
    "numArray = np.array([[2, 3, 1], [-1, 5, 4], [3, 2, 9]]) #[x, y, z]\n",
    "numArrValues = np.array([21, 9, 6]) #resultado do sistema\n",
    "\n",
    "print(numArray)\n",
    "print('')\n",
    "print(numArrValues)"
   ]
  },
  {
   "cell_type": "code",
   "execution_count": 7,
   "id": "13f26e36",
   "metadata": {},
   "outputs": [
    {
     "data": {
      "text/plain": [
       "array([ 4.95,  4.35, -1.95])"
      ]
     },
     "execution_count": 7,
     "metadata": {},
     "output_type": "execute_result"
    }
   ],
   "source": [
    "linalg.solve(numArray, numArrValues) #resultado de x, y e z"
   ]
  },
  {
   "cell_type": "markdown",
   "id": "fca33b82",
   "metadata": {},
   "source": [
    "# Single value decomposition (svd)"
   ]
  },
  {
   "cell_type": "code",
   "execution_count": 8,
   "id": "e6df6b27",
   "metadata": {},
   "outputs": [
    {
     "data": {
      "text/plain": [
       "array([[3, 5, 1],\n",
       "       [9, 5, 7]])"
      ]
     },
     "execution_count": 8,
     "metadata": {},
     "output_type": "execute_result"
    }
   ],
   "source": [
    "import numpy as np\n",
    "from scipy import linalg\n",
    "\n",
    "numSvdArr = np.array([[3, 5, 1], [9, 5, 7]])\n",
    "numSvdArr"
   ]
  },
  {
   "cell_type": "code",
   "execution_count": 9,
   "id": "66f37ea0",
   "metadata": {},
   "outputs": [
    {
     "data": {
      "text/plain": [
       "(2, 3)"
      ]
     },
     "execution_count": 9,
     "metadata": {},
     "output_type": "execute_result"
    }
   ],
   "source": [
    "numSvdArr.shape"
   ]
  },
  {
   "cell_type": "code",
   "execution_count": 10,
   "id": "70b66866",
   "metadata": {},
   "outputs": [
    {
     "data": {
      "text/plain": [
       "(array([[-0.37879831,  0.92547925],\n",
       "        [-0.92547925, -0.37879831]]),\n",
       " array([13.38464336,  3.29413449]),\n",
       " array([[-0.7072066 , -0.4872291 , -0.51231496],\n",
       "        [-0.19208294,  0.82977932, -0.52399467],\n",
       "        [-0.68041382,  0.27216553,  0.68041382]]))"
      ]
     },
     "execution_count": 10,
     "metadata": {},
     "output_type": "execute_result"
    }
   ],
   "source": [
    "linalg.svd(numSvdArr)"
   ]
  }
 ],
 "metadata": {
  "kernelspec": {
   "display_name": "Python 3 (ipykernel)",
   "language": "python",
   "name": "python3"
  },
  "language_info": {
   "codemirror_mode": {
    "name": "ipython",
    "version": 3
   },
   "file_extension": ".py",
   "mimetype": "text/x-python",
   "name": "python",
   "nbconvert_exporter": "python",
   "pygments_lexer": "ipython3",
   "version": "3.9.7"
  }
 },
 "nbformat": 4,
 "nbformat_minor": 5
}
