{
 "cells": [
  {
   "cell_type": "code",
   "execution_count": 1,
   "id": "63fc4bdd",
   "metadata": {},
   "outputs": [],
   "source": [
    "from scipy.stats import norm"
   ]
  },
  {
   "cell_type": "code",
   "execution_count": 2,
   "id": "cf1a299a",
   "metadata": {},
   "outputs": [
    {
     "data": {
      "text/plain": [
       "array([ 0.96620727,  1.69036089, -0.97639413, -0.11465525, -0.4756457 ,\n",
       "       -1.246553  , -1.46310839, -1.28740556, -0.8478727 , -0.1738125 ])"
      ]
     },
     "execution_count": 2,
     "metadata": {},
     "output_type": "execute_result"
    }
   ],
   "source": [
    " norm.rvs(loc=0, scale=1, size=10) #\n",
    "# generate random values, loc = location (for standard normal distribution is MEAN (média)), \n",
    "#                         scale = scale of data distribution (for standard normal distribution is STANDARD DEVIATION (desvio padrão)) \n",
    "#                         and total size is 10 (quantity of random variables)"
   ]
  },
  {
   "cell_type": "code",
   "execution_count": 3,
   "id": "78aec8cf",
   "metadata": {},
   "outputs": [
    {
     "data": {
      "text/plain": [
       "0.9772498680518208"
      ]
     },
     "execution_count": 3,
     "metadata": {},
     "output_type": "execute_result"
    }
   ],
   "source": [
    "norm.cdf(5, loc=1, scale=2) #cumulative distribution function, total size is 5, location is 1 and scale is 2"
   ]
  },
  {
   "cell_type": "code",
   "execution_count": 4,
   "id": "9f8a2045",
   "metadata": {},
   "outputs": [
    {
     "data": {
      "text/plain": [
       "1.0279773571668917e-18"
      ]
     },
     "execution_count": 4,
     "metadata": {},
     "output_type": "execute_result"
    }
   ],
   "source": [
    "norm.pdf(9, loc=0, scale=1) #probabilty density function, total size is 9, location is 0 and scale is 1"
   ]
  },
  {
   "cell_type": "code",
   "execution_count": null,
   "id": "18f232d4",
   "metadata": {},
   "outputs": [],
   "source": []
  }
 ],
 "metadata": {
  "kernelspec": {
   "display_name": "Python 3 (ipykernel)",
   "language": "python",
   "name": "python3"
  },
  "language_info": {
   "codemirror_mode": {
    "name": "ipython",
    "version": 3
   },
   "file_extension": ".py",
   "mimetype": "text/x-python",
   "name": "python",
   "nbconvert_exporter": "python",
   "pygments_lexer": "ipython3",
   "version": "3.9.7"
  }
 },
 "nbformat": 4,
 "nbformat_minor": 5
}
