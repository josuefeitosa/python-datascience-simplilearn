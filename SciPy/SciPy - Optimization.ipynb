{
 "cells": [
  {
   "cell_type": "code",
   "execution_count": 1,
   "id": "20e2fb7c",
   "metadata": {},
   "outputs": [],
   "source": [
    "import numpy as np\n",
    "from scipy import optimize"
   ]
  },
  {
   "cell_type": "code",
   "execution_count": 2,
   "id": "a03fdeb8",
   "metadata": {},
   "outputs": [],
   "source": [
    "def f(x):\n",
    "    return x**2 + 5*np.sin(x)"
   ]
  },
  {
   "cell_type": "code",
   "execution_count": 3,
   "id": "10e4f6d9",
   "metadata": {},
   "outputs": [
    {
     "name": "stdout",
     "output_type": "stream",
     "text": [
      "Optimization terminated successfully.\n",
      "         Current function value: -3.246394\n",
      "         Iterations: 5\n",
      "         Function evaluations: 18\n",
      "         Gradient evaluations: 9\n"
     ]
    }
   ],
   "source": [
    "minimaValue = optimize.minimize(f, x0=2, method = 'bfgs', options={'disp': True})"
   ]
  },
  {
   "cell_type": "code",
   "execution_count": 4,
   "id": "1953f58d",
   "metadata": {},
   "outputs": [
    {
     "data": {
      "text/plain": [
       "      fun: -3.2463942726915196\n",
       " hess_inv: array([[0.15445831]])\n",
       "      jac: array([-4.47034836e-07])\n",
       "  message: 'Optimization terminated successfully.'\n",
       "     nfev: 18\n",
       "      nit: 5\n",
       "     njev: 9\n",
       "   status: 0\n",
       "  success: True\n",
       "        x: array([-1.11051058])"
      ]
     },
     "execution_count": 4,
     "metadata": {},
     "output_type": "execute_result"
    }
   ],
   "source": [
    "minimaValueWithoutOutput = optimize.minimize(f, x0=2, method='bfgs')\n",
    "minimaValueWithoutOutput"
   ]
  },
  {
   "cell_type": "code",
   "execution_count": 7,
   "id": "108a12f1",
   "metadata": {},
   "outputs": [],
   "source": [
    "from scipy.optimize import root\n",
    "\n",
    "def rootFunc(x):\n",
    "    return x + 3.5 * np.cos(x)"
   ]
  },
  {
   "cell_type": "code",
   "execution_count": 8,
   "id": "b7717867",
   "metadata": {},
   "outputs": [
    {
     "data": {
      "text/plain": [
       "    fjac: array([[-1.]])\n",
       "     fun: array([0.])\n",
       " message: 'The solution converged.'\n",
       "    nfev: 14\n",
       "     qtf: array([-8.32889313e-13])\n",
       "       r: array([-4.28198145])\n",
       "  status: 1\n",
       " success: True\n",
       "       x: array([-1.21597614])"
      ]
     },
     "execution_count": 8,
     "metadata": {},
     "output_type": "execute_result"
    }
   ],
   "source": [
    "rootValue = root(rootFunc, 0.3)\n",
    "rootValue"
   ]
  },
  {
   "cell_type": "code",
   "execution_count": null,
   "id": "04049577",
   "metadata": {},
   "outputs": [],
   "source": []
  }
 ],
 "metadata": {
  "kernelspec": {
   "display_name": "Python 3 (ipykernel)",
   "language": "python",
   "name": "python3"
  },
  "language_info": {
   "codemirror_mode": {
    "name": "ipython",
    "version": 3
   },
   "file_extension": ".py",
   "mimetype": "text/x-python",
   "name": "python",
   "nbconvert_exporter": "python",
   "pygments_lexer": "ipython3",
   "version": "3.9.7"
  }
 },
 "nbformat": 4,
 "nbformat_minor": 5
}
