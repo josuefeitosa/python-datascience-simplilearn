{
 "cells": [
  {
   "cell_type": "code",
   "execution_count": 2,
   "id": "acb7c747",
   "metadata": {},
   "outputs": [],
   "source": [
    "import numpy as np"
   ]
  },
  {
   "cell_type": "code",
   "execution_count": 3,
   "id": "d0b56118",
   "metadata": {},
   "outputs": [
    {
     "data": {
      "text/plain": [
       "65"
      ]
     },
     "execution_count": 3,
     "metadata": {},
     "output_type": "execute_result"
    }
   ],
   "source": [
    "#addition\n",
    "np.add(45, 20)"
   ]
  },
  {
   "cell_type": "code",
   "execution_count": 4,
   "id": "398f2bf5",
   "metadata": {},
   "outputs": [
    {
     "data": {
      "text/plain": [
       "22"
      ]
     },
     "execution_count": 4,
     "metadata": {},
     "output_type": "execute_result"
    }
   ],
   "source": [
    "#subtraction\n",
    "np.subtract(45, 23)"
   ]
  },
  {
   "cell_type": "code",
   "execution_count": 5,
   "id": "b79ef1c7",
   "metadata": {},
   "outputs": [],
   "source": [
    "# ndarray multiplication\n",
    "# create ndarray which contains number of hours worked for 5 days\n",
    "# hourly rate is 15 USD\n",
    "np_daily_wage = np.array([7, 9, 13, 8, 11]) * 15"
   ]
  },
  {
   "cell_type": "code",
   "execution_count": 6,
   "id": "d254c9d8",
   "metadata": {},
   "outputs": [
    {
     "name": "stdout",
     "output_type": "stream",
     "text": [
      "[105 135 195 120 165]\n"
     ]
    }
   ],
   "source": [
    "# print hourly wage for each day\n",
    "print(np_daily_wage)"
   ]
  },
  {
   "cell_type": "code",
   "execution_count": null,
   "id": "3036ec24",
   "metadata": {},
   "outputs": [],
   "source": [
    "# total earning after 5 days\n",
    "# use sum method to add all data elements of ndarray\n",
    "sum(np_daily_wage)"
   ]
  },
  {
   "cell_type": "markdown",
   "id": "d6f04503",
   "metadata": {},
   "source": [
    "# Comparison Operations"
   ]
  },
  {
   "cell_type": "code",
   "execution_count": 10,
   "id": "de2e12ad",
   "metadata": {},
   "outputs": [],
   "source": [
    "#comparison operations\n",
    "#create ndarray for weekly hours, 5 consecutive weeks hours data\n",
    "np_weekly_hrs = np.array([23, 41, 55, 47, 38])"
   ]
  },
  {
   "cell_type": "code",
   "execution_count": 12,
   "id": "01548172",
   "metadata": {},
   "outputs": [
    {
     "data": {
      "text/plain": [
       "array([41, 55, 47])"
      ]
     },
     "execution_count": 12,
     "metadata": {},
     "output_type": "execute_result"
    }
   ],
   "source": [
    "#week with more than 40 hours\n",
    "np_weekly_hrs[np_weekly_hrs>40]"
   ]
  },
  {
   "cell_type": "code",
   "execution_count": 13,
   "id": "91a18796",
   "metadata": {},
   "outputs": [
    {
     "data": {
      "text/plain": [
       "array([23, 41, 55, 47, 38])"
      ]
     },
     "execution_count": 13,
     "metadata": {},
     "output_type": "execute_result"
    }
   ],
   "source": [
    "#week with more not equals to 40 hours\n",
    "np_weekly_hrs[np_weekly_hrs!=40]"
   ]
  },
  {
   "cell_type": "markdown",
   "id": "c685650a",
   "metadata": {},
   "source": [
    "# Logical Operations"
   ]
  },
  {
   "cell_type": "code",
   "execution_count": 14,
   "id": "dac32ff3",
   "metadata": {},
   "outputs": [
    {
     "data": {
      "text/plain": [
       "array([ True,  True, False,  True,  True])"
      ]
     },
     "execution_count": 14,
     "metadata": {},
     "output_type": "execute_result"
    }
   ],
   "source": [
    "#logical AND operation\n",
    "np.logical_and(np_weekly_hrs>20, np_weekly_hrs<50)"
   ]
  },
  {
   "cell_type": "code",
   "execution_count": 15,
   "id": "d7315f1b",
   "metadata": {},
   "outputs": [
    {
     "data": {
      "text/plain": [
       "array([ True, False, False, False, False])"
      ]
     },
     "execution_count": 15,
     "metadata": {},
     "output_type": "execute_result"
    }
   ],
   "source": [
    "#logical NOT operation\n",
    "np.logical_not(np_weekly_hrs>35)"
   ]
  },
  {
   "cell_type": "markdown",
   "id": "ead66dc3",
   "metadata": {},
   "source": [
    "# Indexing"
   ]
  },
  {
   "cell_type": "code",
   "execution_count": 17,
   "id": "dea9d9fd",
   "metadata": {},
   "outputs": [
    {
     "data": {
      "text/plain": [
       "array([10, 15, 17, 26])"
      ]
     },
     "execution_count": 17,
     "metadata": {},
     "output_type": "execute_result"
    }
   ],
   "source": [
    "cyclist_trials = np.array([[10, 15, 17, 26], [12, 11, 21, 24]])\n",
    "\n",
    "first_trial = cyclist_trials[0]\n",
    "first_trial"
   ]
  },
  {
   "cell_type": "code",
   "execution_count": 18,
   "id": "d1e29498",
   "metadata": {},
   "outputs": [
    {
     "data": {
      "text/plain": [
       "array([12, 11, 21, 24])"
      ]
     },
     "execution_count": 18,
     "metadata": {},
     "output_type": "execute_result"
    }
   ],
   "source": [
    "second_trial = cyclist_trials[1]\n",
    "second_trial"
   ]
  },
  {
   "cell_type": "code",
   "execution_count": 19,
   "id": "b21781f3",
   "metadata": {},
   "outputs": [
    {
     "data": {
      "text/plain": [
       "10"
      ]
     },
     "execution_count": 19,
     "metadata": {},
     "output_type": "execute_result"
    }
   ],
   "source": [
    "first_cyclist_firstTrial = cyclist_trials[0][0]\n",
    "first_cyclist_firstTrial"
   ]
  },
  {
   "cell_type": "code",
   "execution_count": 20,
   "id": "9d04d32b",
   "metadata": {},
   "outputs": [
    {
     "data": {
      "text/plain": [
       "array([10, 12])"
      ]
     },
     "execution_count": 20,
     "metadata": {},
     "output_type": "execute_result"
    }
   ],
   "source": [
    "first_cyclist_allTrials = cyclist_trials[:, 0]\n",
    "first_cyclist_allTrials"
   ]
  },
  {
   "cell_type": "markdown",
   "id": "23d98f92",
   "metadata": {},
   "source": [
    "# Slicing"
   ]
  },
  {
   "cell_type": "code",
   "execution_count": 21,
   "id": "564b95f5",
   "metadata": {},
   "outputs": [
    {
     "data": {
      "text/plain": [
       "(2, 4)"
      ]
     },
     "execution_count": 21,
     "metadata": {},
     "output_type": "execute_result"
    }
   ],
   "source": [
    "cyclist_trials.shape"
   ]
  },
  {
   "cell_type": "code",
   "execution_count": 22,
   "id": "da2262f3",
   "metadata": {},
   "outputs": [
    {
     "data": {
      "text/plain": [
       "array([[15, 17],\n",
       "       [11, 21]])"
      ]
     },
     "execution_count": 22,
     "metadata": {},
     "output_type": "execute_result"
    }
   ],
   "source": [
    "two_cyclist_trial_data = cyclist_trials[:,1:3]\n",
    "two_cyclist_trial_data"
   ]
  },
  {
   "cell_type": "markdown",
   "id": "24119b68",
   "metadata": {},
   "source": [
    "# Iteration"
   ]
  },
  {
   "cell_type": "code",
   "execution_count": 23,
   "id": "562d9189",
   "metadata": {},
   "outputs": [
    {
     "name": "stdout",
     "output_type": "stream",
     "text": [
      "[10 15 17 26]\n",
      "[12 11 21 24]\n"
     ]
    }
   ],
   "source": [
    "for x in cyclist_trials:\n",
    "    print(x)"
   ]
  },
  {
   "cell_type": "code",
   "execution_count": 24,
   "id": "b0bf17f8",
   "metadata": {},
   "outputs": [
    {
     "name": "stdout",
     "output_type": "stream",
     "text": [
      "[15 17]\n",
      "[11 21]\n"
     ]
    }
   ],
   "source": [
    "for x in two_cyclist_trial_data:\n",
    "    print(x)"
   ]
  },
  {
   "cell_type": "code",
   "execution_count": 25,
   "id": "e298aaad",
   "metadata": {},
   "outputs": [
    {
     "name": "stdout",
     "output_type": "stream",
     "text": [
      "[16 18]\n",
      "[12 22]\n"
     ]
    }
   ],
   "source": [
    "for x in two_cyclist_trial_data:\n",
    "    print(x+1)"
   ]
  },
  {
   "cell_type": "markdown",
   "id": "3952287e",
   "metadata": {},
   "source": [
    "# Indexing with Boolean Arrays"
   ]
  },
  {
   "cell_type": "code",
   "execution_count": 33,
   "id": "23572326",
   "metadata": {},
   "outputs": [
    {
     "data": {
      "text/plain": [
       "array([[ True,  True, False,  True,  True],\n",
       "       [False,  True,  True, False, False]])"
      ]
     },
     "execution_count": 33,
     "metadata": {},
     "output_type": "execute_result"
    }
   ],
   "source": [
    "test_scores = np.array([[83, 71, 57, 63, 61], [54, 68, 81, 45, 60]])\n",
    "\n",
    "passing_score = test_scores>60\n",
    "not_passing_score = test_scores<=60\n",
    "passing_score"
   ]
  },
  {
   "cell_type": "code",
   "execution_count": 34,
   "id": "90c91692",
   "metadata": {},
   "outputs": [
    {
     "data": {
      "text/plain": [
       "array([83, 71, 63, 61, 68, 81])"
      ]
     },
     "execution_count": 34,
     "metadata": {},
     "output_type": "execute_result"
    }
   ],
   "source": [
    "test_scores[passing_score]"
   ]
  },
  {
   "cell_type": "code",
   "execution_count": 35,
   "id": "b57f4c68",
   "metadata": {},
   "outputs": [
    {
     "data": {
      "text/plain": [
       "array([57, 54, 45, 60])"
      ]
     },
     "execution_count": 35,
     "metadata": {},
     "output_type": "execute_result"
    }
   ],
   "source": [
    "test_scores[not_passing_score]"
   ]
  },
  {
   "cell_type": "code",
   "execution_count": null,
   "id": "fbb4a37f",
   "metadata": {},
   "outputs": [],
   "source": []
  }
 ],
 "metadata": {
  "kernelspec": {
   "display_name": "Python 3 (ipykernel)",
   "language": "python",
   "name": "python3"
  },
  "language_info": {
   "codemirror_mode": {
    "name": "ipython",
    "version": 3
   },
   "file_extension": ".py",
   "mimetype": "text/x-python",
   "name": "python",
   "nbconvert_exporter": "python",
   "pygments_lexer": "ipython3",
   "version": "3.9.7"
  }
 },
 "nbformat": 4,
 "nbformat_minor": 5
}
