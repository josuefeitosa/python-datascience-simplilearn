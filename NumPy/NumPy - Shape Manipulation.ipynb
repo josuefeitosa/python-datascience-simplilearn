{
 "cells": [
  {
   "cell_type": "code",
   "execution_count": 2,
   "id": "c172f133",
   "metadata": {
    "scrolled": true
   },
   "outputs": [
    {
     "data": {
      "text/plain": [
       "array([[10, 15, 17, 26, 13, 19],\n",
       "       [12, 11, 21, 24, 14, 23]])"
      ]
     },
     "execution_count": 2,
     "metadata": {},
     "output_type": "execute_result"
    }
   ],
   "source": [
    "import numpy as np\n",
    "\n",
    "new_cyclist_trials = np.array([[10, 15, 17, 26, 13, 19], [12, 11, 21, 24, 14, 23]])\n",
    "new_cyclist_trials"
   ]
  },
  {
   "cell_type": "code",
   "execution_count": 3,
   "id": "c0b815cf",
   "metadata": {},
   "outputs": [
    {
     "data": {
      "text/plain": [
       "array([10, 15, 17, 26, 13, 19, 12, 11, 21, 24, 14, 23])"
      ]
     },
     "execution_count": 3,
     "metadata": {},
     "output_type": "execute_result"
    }
   ],
   "source": [
    "new_cyclist_trials.ravel() #unify all axes - unifica todos os eixos"
   ]
  },
  {
   "cell_type": "code",
   "execution_count": 5,
   "id": "6559deac",
   "metadata": {},
   "outputs": [
    {
     "data": {
      "text/plain": [
       "array([[10, 15, 17, 26],\n",
       "       [13, 19, 12, 11],\n",
       "       [21, 24, 14, 23]])"
      ]
     },
     "execution_count": 5,
     "metadata": {},
     "output_type": "execute_result"
    }
   ],
   "source": [
    "new_cyclist_trials.reshape(3, 4) #reshape axes - redesenha os eixos, nesse caso passando de (2L, 6C) para (3L, 4C)"
   ]
  },
  {
   "cell_type": "code",
   "execution_count": 6,
   "id": "180c6d6a",
   "metadata": {},
   "outputs": [
    {
     "data": {
      "text/plain": [
       "array([[10, 15, 17, 26, 13, 19],\n",
       "       [12, 11, 21, 24, 14, 23]])"
      ]
     },
     "execution_count": 6,
     "metadata": {},
     "output_type": "execute_result"
    }
   ],
   "source": [
    "new_cyclist_trials.resize(2, 6) #altera o tamanho do objeto original\n",
    "new_cyclist_trials"
   ]
  },
  {
   "cell_type": "code",
   "execution_count": 7,
   "id": "4db196c2",
   "metadata": {},
   "outputs": [
    {
     "data": {
      "text/plain": [
       "[array([[10, 15, 17],\n",
       "        [12, 11, 21]]),\n",
       " array([[26, 13, 19],\n",
       "        [24, 14, 23]])]"
      ]
     },
     "execution_count": 7,
     "metadata": {},
     "output_type": "execute_result"
    }
   ],
   "source": [
    "np.hsplit(new_cyclist_trials, 2) #divide horizontalmente o array, nesse caso divindo dois eixos 2L, 6C para 2 arrays com \n",
    "#                                   2 eixos 2L, 3C, unificando os dois eixos e remodelando"
   ]
  },
  {
   "cell_type": "code",
   "execution_count": 11,
   "id": "92422430",
   "metadata": {},
   "outputs": [
    {
     "data": {
      "text/plain": [
       "array([10, 15, 17, 26, 13, 19, 12, 11, 21, 24, 14, 23])"
      ]
     },
     "execution_count": 11,
     "metadata": {},
     "output_type": "execute_result"
    }
   ],
   "source": [
    "new_cyclist_1 = np.array([10, 15, 17, 26, 13, 19])\n",
    "new_cyclist_2 = np.array([12, 11, 21, 24, 14, 23])\n",
    "\n",
    "np.hstack((new_cyclist_1, new_cyclist_2)) # empilha 2 arrays em um"
   ]
  },
  {
   "cell_type": "markdown",
   "id": "ce2d08ee",
   "metadata": {},
   "source": [
    "# Broadcasting"
   ]
  },
  {
   "cell_type": "code",
   "execution_count": 12,
   "id": "b955a1b3",
   "metadata": {},
   "outputs": [],
   "source": [
    "# Create two arrays of the same shape, in this case (1L, 4C)\n",
    "array_a = np.array([2, 3, 5, 8])\n",
    "array_b = np.array([.3, .3, .3, .3])"
   ]
  },
  {
   "cell_type": "code",
   "execution_count": 13,
   "id": "1d4460af",
   "metadata": {},
   "outputs": [
    {
     "data": {
      "text/plain": [
       "array([0.6, 0.9, 1.5, 2.4])"
      ]
     },
     "execution_count": 13,
     "metadata": {},
     "output_type": "execute_result"
    }
   ],
   "source": [
    "# multiply arrays\n",
    "array_a * array_b"
   ]
  },
  {
   "cell_type": "code",
   "execution_count": 14,
   "id": "5c0f9077",
   "metadata": {},
   "outputs": [
    {
     "data": {
      "text/plain": [
       "array([0.6, 0.9, 1.5, 2.4])"
      ]
     },
     "execution_count": 14,
     "metadata": {},
     "output_type": "execute_result"
    }
   ],
   "source": [
    "# create a var with a scalar value\n",
    "scalar_c = .3\n",
    "\n",
    "#multiply 1D array with a scalar value\n",
    "array_a * scalar_c"
   ]
  },
  {
   "cell_type": "code",
   "execution_count": null,
   "id": "be4b1f6f",
   "metadata": {},
   "outputs": [],
   "source": [
    "## Only works if their dimensions are the same, or one of them has a dimension of size 1"
   ]
  },
  {
   "cell_type": "markdown",
   "id": "279ac804",
   "metadata": {},
   "source": [
    "# Transposing"
   ]
  },
  {
   "cell_type": "code",
   "execution_count": 15,
   "id": "dcbea7c4",
   "metadata": {},
   "outputs": [
    {
     "data": {
      "text/plain": [
       "array([[83, 71, 57, 63],\n",
       "       [54, 68, 81, 45]])"
      ]
     },
     "execution_count": 15,
     "metadata": {},
     "output_type": "execute_result"
    }
   ],
   "source": [
    "test_scores = np.array([[83, 71, 57, 63], [54, 68, 81, 45]])\n",
    "test_scores"
   ]
  },
  {
   "cell_type": "code",
   "execution_count": 16,
   "id": "80b51127",
   "metadata": {},
   "outputs": [
    {
     "data": {
      "text/plain": [
       "array([[83, 54],\n",
       "       [71, 68],\n",
       "       [57, 81],\n",
       "       [63, 45]])"
      ]
     },
     "execution_count": 16,
     "metadata": {},
     "output_type": "execute_result"
    }
   ],
   "source": [
    "test_scores.transpose()"
   ]
  },
  {
   "cell_type": "markdown",
   "id": "7b14da9e",
   "metadata": {},
   "source": [
    "# Linear Algebra - Inverse and Trace"
   ]
  },
  {
   "cell_type": "code",
   "execution_count": 18,
   "id": "3a3595a1",
   "metadata": {},
   "outputs": [
    {
     "data": {
      "text/plain": [
       "array([[10, 20],\n",
       "       [15, 25]])"
      ]
     },
     "execution_count": 18,
     "metadata": {},
     "output_type": "execute_result"
    }
   ],
   "source": [
    "inverse_array = np.array([[10, 20], [15, 25]]) # only works with square matrix (matriz quadrada, mesmo numero de linhas e colunas)\n",
    "inverse_array"
   ]
  },
  {
   "cell_type": "code",
   "execution_count": 19,
   "id": "0cbee254",
   "metadata": {},
   "outputs": [
    {
     "data": {
      "text/plain": [
       "array([[-0.5,  0.4],\n",
       "       [ 0.3, -0.2]])"
      ]
     },
     "execution_count": 19,
     "metadata": {},
     "output_type": "execute_result"
    }
   ],
   "source": [
    "np.linalg.inv(inverse_array)"
   ]
  },
  {
   "cell_type": "code",
   "execution_count": 20,
   "id": "920c9c51",
   "metadata": {},
   "outputs": [
    {
     "data": {
      "text/plain": [
       "35"
      ]
     },
     "execution_count": 20,
     "metadata": {},
     "output_type": "execute_result"
    }
   ],
   "source": [
    "np.trace(inverse_array) #sum of diagonal elements ((0,0) + (1,1) + (2,2) ... + (n,n))"
   ]
  },
  {
   "cell_type": "code",
   "execution_count": null,
   "id": "9cc9dd68",
   "metadata": {},
   "outputs": [],
   "source": []
  }
 ],
 "metadata": {
  "kernelspec": {
   "display_name": "Python 3 (ipykernel)",
   "language": "python",
   "name": "python3"
  },
  "language_info": {
   "codemirror_mode": {
    "name": "ipython",
    "version": 3
   },
   "file_extension": ".py",
   "mimetype": "text/x-python",
   "name": "python",
   "nbconvert_exporter": "python",
   "pygments_lexer": "ipython3",
   "version": "3.9.7"
  }
 },
 "nbformat": 4,
 "nbformat_minor": 5
}
