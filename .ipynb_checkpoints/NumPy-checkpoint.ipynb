{
 "cells": [
  {
   "cell_type": "code",
   "execution_count": 1,
   "id": "0806e3a1",
   "metadata": {},
   "outputs": [
    {
     "name": "stdout",
     "output_type": "stream",
     "text": [
      "[10, 15, 17, 26]\n",
      "[0.3, 0.47, 0.55, 1.2]\n"
     ]
    }
   ],
   "source": [
    "distance = [10, 15, 17, 26];\n",
    "time = [.30, .47, .55, 1.20];\n",
    "\n",
    "print(distance)\n",
    "print(time)"
   ]
  },
  {
   "cell_type": "code",
   "execution_count": 2,
   "id": "cde51115",
   "metadata": {},
   "outputs": [
    {
     "name": "stdout",
     "output_type": "stream",
     "text": [
      "[33.33333333 31.91489362 30.90909091 21.66666667]\n"
     ]
    }
   ],
   "source": [
    "import numpy as np\n",
    "\n",
    "np_distance = np.array(distance);\n",
    "np_time = np.array(time);\n",
    "speed = np_distance/np_time;\n",
    "\n",
    "print(speed);"
   ]
  },
  {
   "cell_type": "code",
   "execution_count": null,
   "id": "eb3237fe",
   "metadata": {},
   "outputs": [],
   "source": []
  }
 ],
 "metadata": {
  "kernelspec": {
   "display_name": "Python 3 (ipykernel)",
   "language": "python",
   "name": "python3"
  },
  "language_info": {
   "codemirror_mode": {
    "name": "ipython",
    "version": 3
   },
   "file_extension": ".py",
   "mimetype": "text/x-python",
   "name": "python",
   "nbconvert_exporter": "python",
   "pygments_lexer": "ipython3",
   "version": "3.9.7"
  }
 },
 "nbformat": 4,
 "nbformat_minor": 5
}
