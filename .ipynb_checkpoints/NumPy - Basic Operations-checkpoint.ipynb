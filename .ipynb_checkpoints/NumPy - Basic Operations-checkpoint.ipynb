{
 "cells": [
  {
   "cell_type": "code",
   "execution_count": 2,
   "id": "eeeb8c82",
   "metadata": {},
   "outputs": [],
   "source": [
    "import numpy as np"
   ]
  },
  {
   "cell_type": "code",
   "execution_count": 3,
   "id": "8a87a9e3",
   "metadata": {},
   "outputs": [
    {
     "data": {
      "text/plain": [
       "65"
      ]
     },
     "execution_count": 3,
     "metadata": {},
     "output_type": "execute_result"
    }
   ],
   "source": [
    "#addition\n",
    "np.add(45, 20)"
   ]
  },
  {
   "cell_type": "code",
   "execution_count": 4,
   "id": "58a1d090",
   "metadata": {},
   "outputs": [
    {
     "data": {
      "text/plain": [
       "22"
      ]
     },
     "execution_count": 4,
     "metadata": {},
     "output_type": "execute_result"
    }
   ],
   "source": [
    "#subtraction\n",
    "np.subtract(45, 23)"
   ]
  },
  {
   "cell_type": "code",
   "execution_count": 5,
   "id": "6e3ebd2b",
   "metadata": {},
   "outputs": [],
   "source": [
    "# ndarray multiplication\n",
    "# create ndarray which contains number of hours worked for 5 days\n",
    "# hourly rate is 15 USD\n",
    "np_daily_wage = np.array([7, 9, 13, 8, 11]) * 15"
   ]
  },
  {
   "cell_type": "code",
   "execution_count": 6,
   "id": "50360152",
   "metadata": {},
   "outputs": [
    {
     "name": "stdout",
     "output_type": "stream",
     "text": [
      "[105 135 195 120 165]\n"
     ]
    }
   ],
   "source": [
    "# print hourly wage for each day\n",
    "print(np_daily_wage)"
   ]
  },
  {
   "cell_type": "code",
   "execution_count": 7,
   "id": "adaf85ec",
   "metadata": {},
   "outputs": [
    {
     "data": {
      "text/plain": [
       "720"
      ]
     },
     "execution_count": 7,
     "metadata": {},
     "output_type": "execute_result"
    }
   ],
   "source": [
    "# total earning after 5 days\n",
    "# use sum method to add all data elements of ndarray\n",
    "sum(np_daily_wage)"
   ]
  },
  {
   "cell_type": "code",
   "execution_count": null,
   "id": "08f4c9a7",
   "metadata": {},
   "outputs": [],
   "source": []
  },
  {
   "cell_type": "code",
   "execution_count": null,
   "id": "124cfc94",
   "metadata": {},
   "outputs": [],
   "source": []
  },
  {
   "cell_type": "code",
   "execution_count": null,
   "id": "a67d7eda",
   "metadata": {},
   "outputs": [],
   "source": []
  },
  {
   "cell_type": "markdown",
   "id": "eccc875c",
   "metadata": {},
   "source": [
    "# "
   ]
  }
 ],
 "metadata": {
  "kernelspec": {
   "display_name": "Python 3 (ipykernel)",
   "language": "python",
   "name": "python3"
  },
  "language_info": {
   "codemirror_mode": {
    "name": "ipython",
    "version": 3
   },
   "file_extension": ".py",
   "mimetype": "text/x-python",
   "name": "python",
   "nbconvert_exporter": "python",
   "pygments_lexer": "ipython3",
   "version": "3.9.7"
  }
 },
 "nbformat": 4,
 "nbformat_minor": 5
}
